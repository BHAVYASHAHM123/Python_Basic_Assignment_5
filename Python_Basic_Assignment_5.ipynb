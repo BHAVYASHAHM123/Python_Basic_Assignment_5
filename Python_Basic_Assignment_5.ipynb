{
  "nbformat": 4,
  "nbformat_minor": 0,
  "metadata": {
    "colab": {
      "name": "Python_Basic_Assignment_5.ipynb",
      "provenance": [],
      "collapsed_sections": []
    },
    "kernelspec": {
      "name": "python3",
      "display_name": "Python 3"
    },
    "language_info": {
      "name": "python"
    }
  },
  "cells": [
    {
      "cell_type": "markdown",
      "source": [
        "Q1). What does an empty dictionary's code look like?"
      ],
      "metadata": {
        "id": "mY8hpagnkD8j"
      }
    },
    {
      "cell_type": "code",
      "execution_count": null,
      "metadata": {
        "colab": {
          "base_uri": "https://localhost:8080/"
        },
        "id": "7Dp4Ea45kC99",
        "outputId": "ae9dbab7-8977-46e4-8f90-f9df433492da"
      },
      "outputs": [
        {
          "output_type": "execute_result",
          "data": {
            "text/plain": [
              "{'age': 21, 'name': 'Bhavya', 'place': 'Mumbai'}"
            ]
          },
          "metadata": {},
          "execution_count": 2
        }
      ],
      "source": [
        "d = {\"name\" : \"Bhavya\", \"age\" : 21, \"place\" : \"Mumbai\"}\n",
        "d"
      ]
    },
    {
      "cell_type": "markdown",
      "source": [
        "Q2) What is the most significant distinction between a dictionary and a list?\n",
        "\n",
        "Ans) most significant distinction between a  list and dictionaries are accessed via keys and not via their position."
      ],
      "metadata": {
        "id": "ydWdD15B0u-4"
      }
    },
    {
      "cell_type": "markdown",
      "source": [
        "Q3) What happens if you try to access spam['foo'] if spam is {'bar': 100}?\n",
        "\n",
        "Ans)  There is no difference. The in operator checks whether a value exists as a key in the dictionary"
      ],
      "metadata": {
        "id": "cUtKL17h2G0f"
      }
    },
    {
      "cell_type": "markdown",
      "source": [
        "Q4) If a dictionary is stored in spam, what is the difference between the expressions 'cat' in spam and\n",
        "'cat' in spam.keys()?\n",
        "\n",
        "Ans) There is no difference."
      ],
      "metadata": {
        "id": "8Yfg6bW54KEo"
      }
    },
    {
      "cell_type": "markdown",
      "source": [
        "Q5) If a dictionary is stored in spam, what is the difference between the expressions 'cat' in spam and 'cat' in spam.values()?\n",
        "\n",
        "Ans) There is no difference. The in operator checks whether a value exists as a key in the dictionary. 'cat' in spam checks whether there is a 'cat' key in the dictionary, while 'cat' in spam. values() checks whether there is a value 'cat' for one of the keys in spam ."
      ],
      "metadata": {
        "id": "Oh74dLrZ4oas"
      }
    },
    {
      "cell_type": "markdown",
      "source": [
        "Q6) If a dictionary is stored in spam, what is the difference between the expressions 'cat' in spam and 'cat' in spam.values()?\n",
        "\n",
        "Ans) There is no difference. The in operator checks whether a value exists as a key in the dictionary. 'cat' in spam checks whether there is a 'cat' key in the dictionary, while 'cat' in spam. values() checks whether there is a value 'cat' for one of the keys in spam ."
      ],
      "metadata": {
        "id": "dd47YfHX4wax"
      }
    },
    {
      "cell_type": "markdown",
      "source": [
        "Q7) What is a shortcut for the following code? if 'color' not in spam:\n",
        "spam['color'] = 'black'\n",
        "\n",
        "Ans) The in operator checks whether a value exists as a key in the dictionary."
      ],
      "metadata": {
        "id": "qCmsebe55huT"
      }
    },
    {
      "cell_type": "markdown",
      "source": [
        "Q8) How do you 'pretty print' dictionary values using which module and function?\n",
        "\n",
        "Ans)  pprint()"
      ],
      "metadata": {
        "id": "AVhagMwz2V_i"
      }
    }
  ]
}